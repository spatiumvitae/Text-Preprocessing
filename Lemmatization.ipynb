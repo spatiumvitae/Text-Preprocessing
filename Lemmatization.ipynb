{
 "cells": [
  {
   "cell_type": "markdown",
   "id": "21d1403a",
   "metadata": {},
   "source": [
    "## Wordnet Lemmatizer\n",
    "Lemmatization technique is like stemming. The output we will get after lemmatization is called ‘lemma’, which is a root word rather than root stem, the output of stemming. After lemmatization, we will be getting a valid word that means the same thing.\n",
    "\n",
    "NLTK provides WordNetLemmatizer class which is a thin wrapper around the wordnet corpus. This class uses morphy() function to the WordNet CorpusReader class to find a lemma."
   ]
  },
  {
   "cell_type": "raw",
   "id": "6f046a5f",
   "metadata": {},
   "source": [
    "\n",
    "Lemmatization is a process in natural language processing (NLP) that reduces words to their base or dictionary form, known as the lemma. Unlike stemming, which often truncates words without regard to their meaning, lemmatization uses vocabulary and morphological analysis to produce accurate base forms that retain semantic meaning."
   ]
  },
  {
   "cell_type": "raw",
   "id": "0f8dfa8c",
   "metadata": {},
   "source": [
    "\"running\" to \"run\" (verb),\n",
    "\"better\" to \"good\" (adjective), and\n",
    "\"children\" to \"child\" (noun)."
   ]
  },
  {
   "cell_type": "code",
   "execution_count": 1,
   "id": "d8689bed",
   "metadata": {},
   "outputs": [],
   "source": [
    "from nltk.stem import WordNetLemmatizer"
   ]
  },
  {
   "cell_type": "code",
   "execution_count": 3,
   "id": "b4491361",
   "metadata": {},
   "outputs": [],
   "source": [
    "lemmatizer = WordNetLemmatizer()"
   ]
  },
  {
   "cell_type": "code",
   "execution_count": 4,
   "id": "e4d80af0",
   "metadata": {},
   "outputs": [
    {
     "data": {
      "text/plain": [
       "'Going'"
      ]
     },
     "execution_count": 4,
     "metadata": {},
     "output_type": "execute_result"
    }
   ],
   "source": [
    "lemmatizer.lemmatize(\"Going\")"
   ]
  },
  {
   "cell_type": "code",
   "execution_count": 6,
   "id": "4210d56d",
   "metadata": {},
   "outputs": [
    {
     "data": {
      "text/plain": [
       "'\\npost tags\\nnoun - n\\nverb - v\\nadjective - a\\nadverb - r\\n'"
      ]
     },
     "execution_count": 6,
     "metadata": {},
     "output_type": "execute_result"
    }
   ],
   "source": [
    "'''\n",
    "post tags\n",
    "noun - n\n",
    "verb - v\n",
    "adjective - a\n",
    "adverb - r\n",
    "'''"
   ]
  },
  {
   "cell_type": "code",
   "execution_count": 7,
   "id": "dad54255",
   "metadata": {},
   "outputs": [
    {
     "data": {
      "text/plain": [
       "'go'"
      ]
     },
     "execution_count": 7,
     "metadata": {},
     "output_type": "execute_result"
    }
   ],
   "source": [
    "lemmatizer.lemmatize('going', pos = 'v')"
   ]
  },
  {
   "cell_type": "code",
   "execution_count": 8,
   "id": "c8ca868e",
   "metadata": {},
   "outputs": [],
   "source": [
    "words=[\"eating\",\"eats\",\"eaten\",\"writing\",\"writes\",\"programming\",\"programs\",\"history\",\"finally\",\"finalized\"]"
   ]
  },
  {
   "cell_type": "code",
   "execution_count": 10,
   "id": "e5794dec",
   "metadata": {},
   "outputs": [
    {
     "name": "stdout",
     "output_type": "stream",
     "text": [
      "eating----->eating\n",
      "eats----->eats\n",
      "eaten----->eaten\n",
      "writing----->writing\n",
      "writes----->writes\n",
      "programming----->programming\n",
      "programs----->program\n",
      "history----->history\n",
      "finally----->finally\n",
      "finalized----->finalized\n"
     ]
    }
   ],
   "source": [
    "for word in words:\n",
    "    print(word + \"----->\" + lemmatizer.lemmatize(word))\n",
    "\n",
    "# by default pos tag is n\n",
    "# str = 'n', the word that i am passing it is treating that as noun"
   ]
  },
  {
   "cell_type": "code",
   "execution_count": 12,
   "id": "c49e7691",
   "metadata": {},
   "outputs": [
    {
     "name": "stdout",
     "output_type": "stream",
     "text": [
      "eating----->eat\n",
      "eats----->eat\n",
      "eaten----->eat\n",
      "writing----->write\n",
      "writes----->write\n",
      "programming----->program\n",
      "programs----->program\n",
      "history----->history\n",
      "finally----->finally\n",
      "finalized----->finalize\n"
     ]
    }
   ],
   "source": [
    "for word in words:\n",
    "    print(word + \"----->\" + lemmatizer.lemmatize(word, pos = 'v'))\n"
   ]
  },
  {
   "cell_type": "code",
   "execution_count": 18,
   "id": "98e35f2a",
   "metadata": {},
   "outputs": [
    {
     "data": {
      "text/plain": [
       "('university', 'universe')"
      ]
     },
     "execution_count": 18,
     "metadata": {},
     "output_type": "execute_result"
    }
   ],
   "source": [
    "lemmatizer.lemmatize('university'), lemmatizer.lemmatize('universe')"
   ]
  },
  {
   "cell_type": "code",
   "execution_count": 17,
   "id": "2e612ee3",
   "metadata": {},
   "outputs": [
    {
     "data": {
      "text/plain": [
       "('fairly', 'sportingly')"
      ]
     },
     "execution_count": 17,
     "metadata": {},
     "output_type": "execute_result"
    }
   ],
   "source": [
    "lemmatizer.lemmatize('fairly'), lemmatizer.lemmatize('sportingly')"
   ]
  },
  {
   "cell_type": "raw",
   "id": "0a820196",
   "metadata": {},
   "source": [
    "Lemmatizing will take more time than stemming"
   ]
  },
  {
   "cell_type": "code",
   "execution_count": null,
   "id": "11f14aa0",
   "metadata": {},
   "outputs": [],
   "source": [
    " "
   ]
  }
 ],
 "metadata": {
  "kernelspec": {
   "display_name": "Python 3 (ipykernel)",
   "language": "python",
   "name": "python3"
  },
  "language_info": {
   "codemirror_mode": {
    "name": "ipython",
    "version": 3
   },
   "file_extension": ".py",
   "mimetype": "text/x-python",
   "name": "python",
   "nbconvert_exporter": "python",
   "pygments_lexer": "ipython3",
   "version": "3.9.12"
  }
 },
 "nbformat": 4,
 "nbformat_minor": 5
}
